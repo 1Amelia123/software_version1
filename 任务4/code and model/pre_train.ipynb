{
 "cells": [
  {
   "cell_type": "markdown",
   "id": "74ee7cae",
   "metadata": {},
   "source": [
    "# 数据预处理"
   ]
  },
  {
   "cell_type": "code",
   "execution_count": 1,
   "id": "f8aa484f",
   "metadata": {},
   "outputs": [],
   "source": [
    "import numpy as np\n",
    "import pandas as pd\n",
    "import matplotlib.pyplot as plt"
   ]
  },
  {
   "cell_type": "code",
   "execution_count": 2,
   "id": "39070858",
   "metadata": {},
   "outputs": [],
   "source": [
    "dataset = pd.read_csv('train_data.csv')"
   ]
  },
  {
   "cell_type": "code",
   "execution_count": 3,
   "id": "f2ffd103",
   "metadata": {},
   "outputs": [
    {
     "data": {
      "text/plain": [
       "(929088, 9)"
      ]
     },
     "execution_count": 3,
     "metadata": {},
     "output_type": "execute_result"
    }
   ],
   "source": [
    "dataset.shape"
   ]
  },
  {
   "cell_type": "code",
   "execution_count": 4,
   "id": "ec883027",
   "metadata": {},
   "outputs": [
    {
     "data": {
      "text/html": [
       "<div>\n",
       "<style scoped>\n",
       "    .dataframe tbody tr th:only-of-type {\n",
       "        vertical-align: middle;\n",
       "    }\n",
       "\n",
       "    .dataframe tbody tr th {\n",
       "        vertical-align: top;\n",
       "    }\n",
       "\n",
       "    .dataframe thead th {\n",
       "        text-align: right;\n",
       "    }\n",
       "</style>\n",
       "<table border=\"1\" class=\"dataframe\">\n",
       "  <thead>\n",
       "    <tr style=\"text-align: right;\">\n",
       "      <th></th>\n",
       "      <th>date</th>\n",
       "      <th>user_id</th>\n",
       "      <th>power_consumption</th>\n",
       "      <th>low_temp</th>\n",
       "      <th>high_temp</th>\n",
       "      <th>kind</th>\n",
       "      <th>wind</th>\n",
       "      <th>level</th>\n",
       "      <th>holiday</th>\n",
       "    </tr>\n",
       "  </thead>\n",
       "  <tbody>\n",
       "    <tr>\n",
       "      <th>0</th>\n",
       "      <td>2015-01-01</td>\n",
       "      <td>1</td>\n",
       "      <td>1135</td>\n",
       "      <td>8</td>\n",
       "      <td>-4</td>\n",
       "      <td>晴</td>\n",
       "      <td>西南风</td>\n",
       "      <td>小于3级</td>\n",
       "      <td>NaN</td>\n",
       "    </tr>\n",
       "    <tr>\n",
       "      <th>1</th>\n",
       "      <td>2015-01-02</td>\n",
       "      <td>1</td>\n",
       "      <td>570</td>\n",
       "      <td>13</td>\n",
       "      <td>0</td>\n",
       "      <td>多云转晴</td>\n",
       "      <td>东南风</td>\n",
       "      <td>小于3级</td>\n",
       "      <td>2.0</td>\n",
       "    </tr>\n",
       "    <tr>\n",
       "      <th>2</th>\n",
       "      <td>2015-01-03</td>\n",
       "      <td>1</td>\n",
       "      <td>3418</td>\n",
       "      <td>16</td>\n",
       "      <td>3</td>\n",
       "      <td>多云</td>\n",
       "      <td>南风</td>\n",
       "      <td>小于3级</td>\n",
       "      <td>2.0</td>\n",
       "    </tr>\n",
       "    <tr>\n",
       "      <th>3</th>\n",
       "      <td>2015-01-04</td>\n",
       "      <td>1</td>\n",
       "      <td>3968</td>\n",
       "      <td>15</td>\n",
       "      <td>4</td>\n",
       "      <td>晴转阴</td>\n",
       "      <td>东风</td>\n",
       "      <td>3-4级</td>\n",
       "      <td>1.0</td>\n",
       "    </tr>\n",
       "    <tr>\n",
       "      <th>4</th>\n",
       "      <td>2015-01-05</td>\n",
       "      <td>1</td>\n",
       "      <td>3986</td>\n",
       "      <td>10</td>\n",
       "      <td>2</td>\n",
       "      <td>小雨转雨夹雪</td>\n",
       "      <td>西北风</td>\n",
       "      <td>4-5级转3-4级</td>\n",
       "      <td>2.0</td>\n",
       "    </tr>\n",
       "    <tr>\n",
       "      <th>5</th>\n",
       "      <td>2015-01-06</td>\n",
       "      <td>1</td>\n",
       "      <td>4082</td>\n",
       "      <td>7</td>\n",
       "      <td>-1</td>\n",
       "      <td>阴转多云</td>\n",
       "      <td>北风</td>\n",
       "      <td>小于3级</td>\n",
       "      <td>1.0</td>\n",
       "    </tr>\n",
       "    <tr>\n",
       "      <th>6</th>\n",
       "      <td>2015-01-07</td>\n",
       "      <td>1</td>\n",
       "      <td>4172</td>\n",
       "      <td>7</td>\n",
       "      <td>-2</td>\n",
       "      <td>晴</td>\n",
       "      <td>西北风</td>\n",
       "      <td>小于3级</td>\n",
       "      <td>0.0</td>\n",
       "    </tr>\n",
       "    <tr>\n",
       "      <th>7</th>\n",
       "      <td>2015-01-08</td>\n",
       "      <td>1</td>\n",
       "      <td>4022</td>\n",
       "      <td>12</td>\n",
       "      <td>-1</td>\n",
       "      <td>晴</td>\n",
       "      <td>北风</td>\n",
       "      <td>小于3级</td>\n",
       "      <td>0.0</td>\n",
       "    </tr>\n",
       "    <tr>\n",
       "      <th>8</th>\n",
       "      <td>2015-01-09</td>\n",
       "      <td>1</td>\n",
       "      <td>4025</td>\n",
       "      <td>14</td>\n",
       "      <td>1</td>\n",
       "      <td>晴转多云</td>\n",
       "      <td>西南风</td>\n",
       "      <td>小于3级</td>\n",
       "      <td>1.0</td>\n",
       "    </tr>\n",
       "    <tr>\n",
       "      <th>9</th>\n",
       "      <td>2015-01-10</td>\n",
       "      <td>1</td>\n",
       "      <td>4047</td>\n",
       "      <td>14</td>\n",
       "      <td>1</td>\n",
       "      <td>晴</td>\n",
       "      <td>西南风</td>\n",
       "      <td>小于3级</td>\n",
       "      <td>0.0</td>\n",
       "    </tr>\n",
       "  </tbody>\n",
       "</table>\n",
       "</div>"
      ],
      "text/plain": [
       "         date  user_id  power_consumption  low_temp  high_temp    kind wind  \\\n",
       "0  2015-01-01        1               1135         8         -4       晴  西南风   \n",
       "1  2015-01-02        1                570        13          0    多云转晴  东南风   \n",
       "2  2015-01-03        1               3418        16          3      多云   南风   \n",
       "3  2015-01-04        1               3968        15          4     晴转阴   东风   \n",
       "4  2015-01-05        1               3986        10          2  小雨转雨夹雪  西北风   \n",
       "5  2015-01-06        1               4082         7         -1    阴转多云   北风   \n",
       "6  2015-01-07        1               4172         7         -2       晴  西北风   \n",
       "7  2015-01-08        1               4022        12         -1       晴   北风   \n",
       "8  2015-01-09        1               4025        14          1    晴转多云  西南风   \n",
       "9  2015-01-10        1               4047        14          1       晴  西南风   \n",
       "\n",
       "       level  holiday  \n",
       "0       小于3级      NaN  \n",
       "1       小于3级      2.0  \n",
       "2       小于3级      2.0  \n",
       "3       3-4级      1.0  \n",
       "4  4-5级转3-4级      2.0  \n",
       "5       小于3级      1.0  \n",
       "6       小于3级      0.0  \n",
       "7       小于3级      0.0  \n",
       "8       小于3级      1.0  \n",
       "9       小于3级      0.0  "
      ]
     },
     "execution_count": 4,
     "metadata": {},
     "output_type": "execute_result"
    }
   ],
   "source": [
    "dataset.head(10)"
   ]
  },
  {
   "cell_type": "markdown",
   "id": "5cc17bb1",
   "metadata": {},
   "source": [
    "检查缺失值"
   ]
  },
  {
   "cell_type": "code",
   "execution_count": 5,
   "id": "0244fb39",
   "metadata": {},
   "outputs": [
    {
     "data": {
      "text/plain": [
       "date                     0\n",
       "user_id                  0\n",
       "power_consumption        0\n",
       "low_temp                 0\n",
       "high_temp                0\n",
       "kind                     0\n",
       "wind                     0\n",
       "level                10178\n",
       "holiday               1454\n",
       "dtype: int64"
      ]
     },
     "execution_count": 5,
     "metadata": {},
     "output_type": "execute_result"
    }
   ],
   "source": [
    "dataset.isna().sum()"
   ]
  },
  {
   "cell_type": "markdown",
   "id": "90abf6a3",
   "metadata": {},
   "source": [
    "检查异常值"
   ]
  },
  {
   "cell_type": "code",
   "execution_count": 6,
   "id": "ce55800c",
   "metadata": {},
   "outputs": [
    {
     "data": {
      "text/plain": [
       "date                 0\n",
       "user_id              0\n",
       "power_consumption    0\n",
       "low_temp             0\n",
       "high_temp            0\n",
       "kind                 0\n",
       "wind                 0\n",
       "level                0\n",
       "holiday              0\n",
       "dtype: int64"
      ]
     },
     "execution_count": 6,
     "metadata": {},
     "output_type": "execute_result"
    }
   ],
   "source": [
    "dataset.iloc[dataset.values=='?'].count()"
   ]
  },
  {
   "cell_type": "markdown",
   "id": "5b12212f",
   "metadata": {},
   "source": [
    "对缺失值进行众数处理"
   ]
  },
  {
   "cell_type": "code",
   "execution_count": 7,
   "id": "bad0d10c",
   "metadata": {},
   "outputs": [],
   "source": [
    "dataset['level'] = dataset['level'].fillna(dataset['level'].mode().values[0])"
   ]
  },
  {
   "cell_type": "code",
   "execution_count": 8,
   "id": "e2cfcf05",
   "metadata": {},
   "outputs": [],
   "source": [
    "dataset['holiday'] = dataset['holiday'].fillna(dataset['holiday'].mode().values[0])"
   ]
  },
  {
   "cell_type": "markdown",
   "id": "48f2e241",
   "metadata": {},
   "source": [
    "缺失值填充完毕"
   ]
  },
  {
   "cell_type": "code",
   "execution_count": 9,
   "id": "e89878fd",
   "metadata": {},
   "outputs": [
    {
     "data": {
      "text/plain": [
       "date                 0\n",
       "user_id              0\n",
       "power_consumption    0\n",
       "low_temp             0\n",
       "high_temp            0\n",
       "kind                 0\n",
       "wind                 0\n",
       "level                0\n",
       "holiday              0\n",
       "dtype: int64"
      ]
     },
     "execution_count": 9,
     "metadata": {},
     "output_type": "execute_result"
    }
   ],
   "source": [
    "dataset.isna().sum()"
   ]
  },
  {
   "cell_type": "markdown",
   "id": "243cf44d",
   "metadata": {},
   "source": [
    "查找数据中的字符型特征"
   ]
  },
  {
   "cell_type": "code",
   "execution_count": 10,
   "id": "3c302d30",
   "metadata": {},
   "outputs": [
    {
     "name": "stdout",
     "output_type": "stream",
     "text": [
      "['date', 'kind', 'wind', 'level']\n"
     ]
    }
   ],
   "source": [
    "num_fea = list(dataset.select_dtypes(exclude=['object']).columns)\n",
    "char_fea = list(filter(lambda x : x not in num_fea, list(dataset.columns)))\n",
    "print(char_fea)"
   ]
  },
  {
   "cell_type": "markdown",
   "id": "67b6039f",
   "metadata": {},
   "source": [
    "对字符类型特征'kind','wind','level'进行数值化"
   ]
  },
  {
   "cell_type": "markdown",
   "id": "734c6fd9",
   "metadata": {},
   "source": [
    "查看类别数目"
   ]
  },
  {
   "cell_type": "code",
   "execution_count": 11,
   "id": "8c8d467c",
   "metadata": {},
   "outputs": [
    {
     "name": "stdout",
     "output_type": "stream",
     "text": [
      "kind : 103\n",
      "wind : 11\n",
      "level : 17\n"
     ]
    }
   ],
   "source": [
    "for cate_fea in ['kind', 'wind', 'level']:\n",
    "    print(cate_fea, ':', dataset[cate_fea].nunique())"
   ]
  },
  {
   "cell_type": "markdown",
   "id": "0012fb75",
   "metadata": {},
   "source": [
    "进行labelEncoder编码转换（编号）"
   ]
  },
  {
   "cell_type": "code",
   "execution_count": 12,
   "id": "6738c20f",
   "metadata": {},
   "outputs": [],
   "source": [
    "from sklearn.preprocessing import LabelEncoder\n",
    "# for fea in ['kind', 'wind', 'level']:\n",
    "#     le = LabelEncoder()\n",
    "#     le.fit(dataset[fea].astype(str).tolist() + dataset[fea].astype(str).tolist())\n",
    "#     dataset[fea] = le.transform(dataset[fea].astype(str).tolist())\n",
    "#     dataset[fea] = le.transform(dataset[fea].astype(str).tolist())\n",
    "\n",
    "# def min_max_scaler(df, fea_list):\n",
    "#     for fea in fea_list:\n",
    "#         max_value = np.max(df[fea])\n",
    "#         min_value = np.min(df[fea])\n",
    "#         df[fea] = (df[fea] - min_value) / (max_value - min_value)\n",
    "#     return df\n",
    "\n",
    "# d = min_max_scaler(d, ['kind', 'wind', 'level'])\n",
    "for fea in ['kind', 'wind', 'level']:\n",
    "    le = LabelEncoder()\n",
    "    le.fit(dataset[fea].astype(str).tolist() + dataset[fea].astype(str).tolist())\n",
    "    dataset[fea] = le.transform(dataset[fea].astype(str).tolist())"
   ]
  },
  {
   "cell_type": "code",
   "execution_count": 13,
   "id": "da5f5591",
   "metadata": {},
   "outputs": [
    {
     "data": {
      "text/html": [
       "<div>\n",
       "<style scoped>\n",
       "    .dataframe tbody tr th:only-of-type {\n",
       "        vertical-align: middle;\n",
       "    }\n",
       "\n",
       "    .dataframe tbody tr th {\n",
       "        vertical-align: top;\n",
       "    }\n",
       "\n",
       "    .dataframe thead th {\n",
       "        text-align: right;\n",
       "    }\n",
       "</style>\n",
       "<table border=\"1\" class=\"dataframe\">\n",
       "  <thead>\n",
       "    <tr style=\"text-align: right;\">\n",
       "      <th></th>\n",
       "      <th>date</th>\n",
       "      <th>user_id</th>\n",
       "      <th>power_consumption</th>\n",
       "      <th>low_temp</th>\n",
       "      <th>high_temp</th>\n",
       "      <th>kind</th>\n",
       "      <th>wind</th>\n",
       "      <th>level</th>\n",
       "      <th>holiday</th>\n",
       "    </tr>\n",
       "  </thead>\n",
       "  <tbody>\n",
       "    <tr>\n",
       "      <th>0</th>\n",
       "      <td>2015-01-01</td>\n",
       "      <td>1</td>\n",
       "      <td>1135</td>\n",
       "      <td>8</td>\n",
       "      <td>-4</td>\n",
       "      <td>58</td>\n",
       "      <td>9</td>\n",
       "      <td>13</td>\n",
       "      <td>0.0</td>\n",
       "    </tr>\n",
       "    <tr>\n",
       "      <th>1</th>\n",
       "      <td>2015-01-02</td>\n",
       "      <td>1</td>\n",
       "      <td>570</td>\n",
       "      <td>13</td>\n",
       "      <td>0</td>\n",
       "      <td>25</td>\n",
       "      <td>2</td>\n",
       "      <td>13</td>\n",
       "      <td>2.0</td>\n",
       "    </tr>\n",
       "    <tr>\n",
       "      <th>2</th>\n",
       "      <td>2015-01-03</td>\n",
       "      <td>1</td>\n",
       "      <td>3418</td>\n",
       "      <td>16</td>\n",
       "      <td>3</td>\n",
       "      <td>14</td>\n",
       "      <td>5</td>\n",
       "      <td>13</td>\n",
       "      <td>2.0</td>\n",
       "    </tr>\n",
       "    <tr>\n",
       "      <th>3</th>\n",
       "      <td>2015-01-04</td>\n",
       "      <td>1</td>\n",
       "      <td>3968</td>\n",
       "      <td>15</td>\n",
       "      <td>4</td>\n",
       "      <td>62</td>\n",
       "      <td>3</td>\n",
       "      <td>2</td>\n",
       "      <td>1.0</td>\n",
       "    </tr>\n",
       "    <tr>\n",
       "      <th>4</th>\n",
       "      <td>2015-01-05</td>\n",
       "      <td>1</td>\n",
       "      <td>3986</td>\n",
       "      <td>10</td>\n",
       "      <td>2</td>\n",
       "      <td>54</td>\n",
       "      <td>8</td>\n",
       "      <td>7</td>\n",
       "      <td>2.0</td>\n",
       "    </tr>\n",
       "    <tr>\n",
       "      <th>5</th>\n",
       "      <td>2015-01-06</td>\n",
       "      <td>1</td>\n",
       "      <td>4082</td>\n",
       "      <td>7</td>\n",
       "      <td>-1</td>\n",
       "      <td>78</td>\n",
       "      <td>4</td>\n",
       "      <td>13</td>\n",
       "      <td>1.0</td>\n",
       "    </tr>\n",
       "    <tr>\n",
       "      <th>6</th>\n",
       "      <td>2015-01-07</td>\n",
       "      <td>1</td>\n",
       "      <td>4172</td>\n",
       "      <td>7</td>\n",
       "      <td>-2</td>\n",
       "      <td>58</td>\n",
       "      <td>8</td>\n",
       "      <td>13</td>\n",
       "      <td>0.0</td>\n",
       "    </tr>\n",
       "    <tr>\n",
       "      <th>7</th>\n",
       "      <td>2015-01-08</td>\n",
       "      <td>1</td>\n",
       "      <td>4022</td>\n",
       "      <td>12</td>\n",
       "      <td>-1</td>\n",
       "      <td>58</td>\n",
       "      <td>4</td>\n",
       "      <td>13</td>\n",
       "      <td>0.0</td>\n",
       "    </tr>\n",
       "    <tr>\n",
       "      <th>8</th>\n",
       "      <td>2015-01-09</td>\n",
       "      <td>1</td>\n",
       "      <td>4025</td>\n",
       "      <td>14</td>\n",
       "      <td>1</td>\n",
       "      <td>61</td>\n",
       "      <td>9</td>\n",
       "      <td>13</td>\n",
       "      <td>1.0</td>\n",
       "    </tr>\n",
       "    <tr>\n",
       "      <th>9</th>\n",
       "      <td>2015-01-10</td>\n",
       "      <td>1</td>\n",
       "      <td>4047</td>\n",
       "      <td>14</td>\n",
       "      <td>1</td>\n",
       "      <td>58</td>\n",
       "      <td>9</td>\n",
       "      <td>13</td>\n",
       "      <td>0.0</td>\n",
       "    </tr>\n",
       "  </tbody>\n",
       "</table>\n",
       "</div>"
      ],
      "text/plain": [
       "         date  user_id  power_consumption  low_temp  high_temp  kind  wind  \\\n",
       "0  2015-01-01        1               1135         8         -4    58     9   \n",
       "1  2015-01-02        1                570        13          0    25     2   \n",
       "2  2015-01-03        1               3418        16          3    14     5   \n",
       "3  2015-01-04        1               3968        15          4    62     3   \n",
       "4  2015-01-05        1               3986        10          2    54     8   \n",
       "5  2015-01-06        1               4082         7         -1    78     4   \n",
       "6  2015-01-07        1               4172         7         -2    58     8   \n",
       "7  2015-01-08        1               4022        12         -1    58     4   \n",
       "8  2015-01-09        1               4025        14          1    61     9   \n",
       "9  2015-01-10        1               4047        14          1    58     9   \n",
       "\n",
       "   level  holiday  \n",
       "0     13      0.0  \n",
       "1     13      2.0  \n",
       "2     13      2.0  \n",
       "3      2      1.0  \n",
       "4      7      2.0  \n",
       "5     13      1.0  \n",
       "6     13      0.0  \n",
       "7     13      0.0  \n",
       "8     13      1.0  \n",
       "9     13      0.0  "
      ]
     },
     "execution_count": 13,
     "metadata": {},
     "output_type": "execute_result"
    }
   ],
   "source": [
    "dataset.head(10)"
   ]
  },
  {
   "cell_type": "markdown",
   "id": "f70a5d8d",
   "metadata": {},
   "source": [
    "将预处理后的数据储存好"
   ]
  },
  {
   "cell_type": "code",
   "execution_count": 14,
   "id": "bac3db95",
   "metadata": {},
   "outputs": [],
   "source": [
    "dataset.to_csv('full_train_data.csv')"
   ]
  },
  {
   "cell_type": "markdown",
   "id": "0d07c6f1",
   "metadata": {},
   "source": [
    "# 可视化分析"
   ]
  },
  {
   "cell_type": "code",
   "execution_count": 15,
   "id": "beecddcc",
   "metadata": {},
   "outputs": [],
   "source": [
    "dataset = pd.read_csv('full_train_data.csv', header=0)"
   ]
  },
  {
   "cell_type": "code",
   "execution_count": 16,
   "id": "eab29e3b",
   "metadata": {},
   "outputs": [
    {
     "data": {
      "text/html": [
       "<div>\n",
       "<style scoped>\n",
       "    .dataframe tbody tr th:only-of-type {\n",
       "        vertical-align: middle;\n",
       "    }\n",
       "\n",
       "    .dataframe tbody tr th {\n",
       "        vertical-align: top;\n",
       "    }\n",
       "\n",
       "    .dataframe thead th {\n",
       "        text-align: right;\n",
       "    }\n",
       "</style>\n",
       "<table border=\"1\" class=\"dataframe\">\n",
       "  <thead>\n",
       "    <tr style=\"text-align: right;\">\n",
       "      <th></th>\n",
       "      <th>date</th>\n",
       "      <th>user_id</th>\n",
       "      <th>power_consumption</th>\n",
       "      <th>low_temp</th>\n",
       "      <th>high_temp</th>\n",
       "      <th>kind</th>\n",
       "      <th>wind</th>\n",
       "      <th>level</th>\n",
       "      <th>holiday</th>\n",
       "    </tr>\n",
       "  </thead>\n",
       "  <tbody>\n",
       "    <tr>\n",
       "      <th>0</th>\n",
       "      <td>2015/1/1</td>\n",
       "      <td>1</td>\n",
       "      <td>1135</td>\n",
       "      <td>8</td>\n",
       "      <td>-4</td>\n",
       "      <td>58</td>\n",
       "      <td>9</td>\n",
       "      <td>13</td>\n",
       "      <td>0</td>\n",
       "    </tr>\n",
       "    <tr>\n",
       "      <th>1</th>\n",
       "      <td>2015/1/2</td>\n",
       "      <td>1</td>\n",
       "      <td>570</td>\n",
       "      <td>13</td>\n",
       "      <td>0</td>\n",
       "      <td>25</td>\n",
       "      <td>2</td>\n",
       "      <td>13</td>\n",
       "      <td>2</td>\n",
       "    </tr>\n",
       "    <tr>\n",
       "      <th>2</th>\n",
       "      <td>2015/1/3</td>\n",
       "      <td>1</td>\n",
       "      <td>3418</td>\n",
       "      <td>16</td>\n",
       "      <td>3</td>\n",
       "      <td>14</td>\n",
       "      <td>5</td>\n",
       "      <td>13</td>\n",
       "      <td>2</td>\n",
       "    </tr>\n",
       "    <tr>\n",
       "      <th>3</th>\n",
       "      <td>2015/1/4</td>\n",
       "      <td>1</td>\n",
       "      <td>3968</td>\n",
       "      <td>15</td>\n",
       "      <td>4</td>\n",
       "      <td>62</td>\n",
       "      <td>3</td>\n",
       "      <td>2</td>\n",
       "      <td>1</td>\n",
       "    </tr>\n",
       "    <tr>\n",
       "      <th>4</th>\n",
       "      <td>2015/1/5</td>\n",
       "      <td>1</td>\n",
       "      <td>3986</td>\n",
       "      <td>10</td>\n",
       "      <td>2</td>\n",
       "      <td>54</td>\n",
       "      <td>8</td>\n",
       "      <td>7</td>\n",
       "      <td>2</td>\n",
       "    </tr>\n",
       "  </tbody>\n",
       "</table>\n",
       "</div>"
      ],
      "text/plain": [
       "       date  user_id  power_consumption  low_temp  high_temp  kind  wind  \\\n",
       "0  2015/1/1        1               1135         8         -4    58     9   \n",
       "1  2015/1/2        1                570        13          0    25     2   \n",
       "2  2015/1/3        1               3418        16          3    14     5   \n",
       "3  2015/1/4        1               3968        15          4    62     3   \n",
       "4  2015/1/5        1               3986        10          2    54     8   \n",
       "\n",
       "   level  holiday  \n",
       "0     13        0  \n",
       "1     13        2  \n",
       "2     13        2  \n",
       "3      2        1  \n",
       "4      7        2  "
      ]
     },
     "execution_count": 16,
     "metadata": {},
     "output_type": "execute_result"
    }
   ],
   "source": [
    "dataset.head()"
   ]
  },
  {
   "cell_type": "code",
   "execution_count": 17,
   "id": "c970594d",
   "metadata": {},
   "outputs": [
    {
     "data": {
      "text/plain": [
       "Text(0, 0.5, 'user_id')"
      ]
     },
     "execution_count": 17,
     "metadata": {},
     "output_type": "execute_result"
    },
    {
     "data": {
      "image/png": "[encoded data removed]",
      "text/plain": [
       "<Figure size 640x480 with 1 Axes>"
      ]
     },
     "metadata": {
      "needs_background": "light"
     },
     "output_type": "display_data"
    }
   ],
   "source": [
    "plt.figure(figsize=(8, 6), dpi=80)\n",
    "plt.scatter(dataset['power_consumption'], dataset['user_id'],s=0.1)\n",
    "plt.xlabel('power_consumption')\n",
    "plt.ylabel('user_id')"
   ]
  },
  {
   "cell_type": "markdown",
   "id": "6da4e409",
   "metadata": {},
   "source": [
    "相关系数绘图"
   ]
  },
  {
   "cell_type": "code",
   "execution_count": 1,
   "id": "b97bbf40",
   "metadata": {},
   "outputs": [],
   "source": [
    "import numpy as np\n",
    "import pandas as pd\n",
    "import matplotlib as mpl\n",
    "import matplotlib.pyplot as plt\n",
    "import seaborn as sns\n",
    "\n",
    "data = pd.read_csv('data_1/data_1.csv', header=0)\n",
    "\n",
    "large = 22; med = 16; small = 12\n",
    "params = {'axes.titlesize': large,\n",
    "          'legend.fontsize': med,\n",
    "          'figure.figsize': (16, 10),\n",
    "          'axes.labelsize': med,\n",
    "          'axes.titlesize': med,\n",
    "          'xtick.labelsize': med,\n",
    "          'ytick.labelsize': med,\n",
    "          'figure.titlesize': large}\n",
    "plt.rcParams.update(params)\n",
    "plt.style.use('seaborn-whitegrid')\n",
    "sns.set_style(\"white\")"
   ]
  },
  {
   "cell_type": "code",
   "execution_count": 2,
   "id": "4951df23",
   "metadata": {},
   "outputs": [
    {
     "data": {
      "image/png": "[encoded data removed]",
      "text/plain": [
       "<Figure size 840x700 with 2 Axes>"
      ]
     },
     "metadata": {},
     "output_type": "display_data"
    }
   ],
   "source": [
    "#确保正常显示中文+负号\n",
    "plt.rcParams['font.sans-serif']=['Simhei'] \n",
    "plt.rcParams['axes.unicode_minus']=False\n",
    "\n",
    "#绘制图像\n",
    "plt.figure(figsize=(12,10), dpi= 70)\n",
    "sns.heatmap(data.corr() #需要输入的相关性矩阵\n",
    "#             , xticklabels=coef.columns #横坐标标签\n",
    "#             , yticklabels=coef.columns #纵坐标标签\n",
    "            , cmap='RdYlGn' #使用的光谱，一般来说都会使用由浅至深，或两头颜色差距较大的光谱\n",
    "         #   , cmap='winter' #不太适合做热力图的光谱\n",
    "            , center=0 #填写数据的中值，注意观察此时的颜色条，大于0的是越来越靠近绿色，小于0的越来越靠近红色\n",
    "         #   , center= -1 #填写数据中的最大值/最小值，则最大值/最小值是最浅或最深的颜色，数据离该极值越远，颜色越浅/颜色越深\n",
    "            , annot=True\n",
    "           )\n",
    "\n",
    "#装饰图像\n",
    "plt.title('相关性矩阵', fontsize=22)\n",
    "plt.xticks(fontsize=12 #字体大小\n",
    "           ,rotation=45 #字体是否进行旋转\n",
    "           ,horizontalalignment='right' #刻度的相对位置\n",
    "          )\n",
    "plt.yticks(fontsize=12)\n",
    "plt.show()"
   ]
  },
  {
   "cell_type": "code",
   "execution_count": null,
   "id": "d65fa6ef",
   "metadata": {},
   "outputs": [],
   "source": []
  }
 ],
 "metadata": {
  "kernelspec": {
   "display_name": "Python 3 (ipykernel)",
   "language": "python",
   "name": "python3"
  },
  "language_info": {
   "codemirror_mode": {
    "name": "ipython",
    "version": 3
   },
   "file_extension": ".py",
   "mimetype": "text/x-python",
   "name": "python",
   "nbconvert_exporter": "python",
   "pygments_lexer": "ipython3",
   "version": "3.8.8"
  }
 },
 "nbformat": 4,
 "nbformat_minor": 5
}
